{
 "cells": [
  {
   "cell_type": "code",
   "execution_count": 5,
   "metadata": {},
   "outputs": [
    {
     "name": "stdout",
     "output_type": "stream",
     "text": [
      "{1: 'one', 2: 'two', 3: 'three', 4: 'four', 5: 'five', 6: 'six'}\n"
     ]
    }
   ],
   "source": [
    "#concatanate 3 dictionaries\n",
    "dict1 = {1:'one', 2:'two'}\n",
    "dict2 = {3:'three', 4:'four'}\n",
    "dict3 = {5:'five', 6:'six'}\n",
    "dict4 = {}\n",
    "for i in (dict1, dict2, dict3): \n",
    "    dict4.update(i)\n",
    "print(dict4)"
   ]
  },
  {
   "cell_type": "code",
   "execution_count": 8,
   "metadata": {},
   "outputs": [
    {
     "name": "stdout",
     "output_type": "stream",
     "text": [
      "name: ABCD, address: EFGH, street: IJKL, state: MNOP\n",
      "None\n"
     ]
    }
   ],
   "source": [
    "#Create a dictionary of address using \"name\", \"address\", \"street\", \"state\" and print all the values using string formater . \n",
    "dict1 = {'name':'ABCD','address':'EFGH','street':'IJKL','city':'MNOP'}\n",
    "print(print (\"name: {}, address: {}, street: {}, state: {}\".format(dict1['name'], dict1['address'], dict1['street'], dict1['city'])))"
   ]
  },
  {
   "cell_type": "code",
   "execution_count": 10,
   "metadata": {},
   "outputs": [
    {
     "name": "stdout",
     "output_type": "stream",
     "text": [
      "1200\n"
     ]
    }
   ],
   "source": [
    "#Write a program to multiply all elements of dictionary \n",
    "#Input:- fdict = {'Apple': 10, 'banana': 5,'orange':4,'Guava':6} \n",
    "#Output:- 1200\n",
    "fdict = {'Apple': 10, 'banana': 5,'orange':4,'Guava':6} \n",
    "r = 1\n",
    "for i in fdict:\n",
    "    r = r*fdict[i]\n",
    "print(r)"
   ]
  },
  {
   "cell_type": "code",
   "execution_count": 11,
   "metadata": {},
   "outputs": [
    {
     "name": "stdout",
     "output_type": "stream",
     "text": [
      "10\n",
      "50\n",
      "200\n",
      "1200\n"
     ]
    }
   ],
   "source": [
    "#Write a program to multiply all elements of dictionary \n",
    "#Input:- fdict = {'Apple': 10, 'banana': 5,'orange':4,'Guava':6} \n",
    "#Output:- 1200\n",
    "fdict = {'Apple': 10, 'banana': 5,'orange':4,'Guava':6} \n",
    "x = 1\n",
    "for i in fdict.values():\n",
    "    x=x*i\n",
    "    print(x)"
   ]
  },
  {
   "cell_type": "code",
   "execution_count": 2,
   "metadata": {},
   "outputs": [
    {
     "name": "stdout",
     "output_type": "stream",
     "text": [
      "key: hari\n",
      "value: 59\n",
      "key: sunny\n",
      "value: 60\n",
      "key: hari\n",
      "value: 59\n",
      "{'hari': '59', 'sunny': '60'}\n",
      "enter keyhari\n",
      "true\n"
     ]
    }
   ],
   "source": [
    "#User input Dictionary\n",
    "#Create a user input dictionary having two key:value pair and check whether one of the key given by you is pesent in the dictionary \n",
    "#Input:- {hari:59,sunny:60} Checking_input:- hari \n",
    "#Output:- hari=59\n",
    "d={}\n",
    "for i in range(0,3):\n",
    "    x=input(\"key: \")\n",
    "    y=input(\"value: \")\n",
    "    d[x]=y\n",
    "print(d)\n",
    "t=input(\"enter key :\")\n",
    "for i in d:\n",
    "    if i==t:\n",
    "        print('true')"
   ]
  },
  {
   "cell_type": "code",
   "execution_count": 1,
   "metadata": {},
   "outputs": [
    {
     "name": "stdout",
     "output_type": "stream",
     "text": [
      "[('Sst', 82), ('Eng', 88), ('Sci', 90), ('Maths', 97)]\n"
     ]
    }
   ],
   "source": [
    "#Write a Python program to sort a list of tuples using Lambda. \n",
    "#Input: [('Eng', 88), ('Sci', 90), ('Maths', 97), ('Sst', 82)]\n",
    "#Output: [('Sst', 82), ('Eng', 88), ('Sci', 90), ('Maths', 97)]\n",
    "a = [('Eng', 88), ('Sci', 90), ('Maths', 97), ('Sst', 82)]\n",
    "a.sort(key = lambda x: x[1])\n",
    "print(a)"
   ]
  },
  {
   "cell_type": "code",
   "execution_count": 9,
   "metadata": {},
   "outputs": [
    {
     "name": "stdout",
     "output_type": "stream",
     "text": [
      "coming from elif\n"
     ]
    }
   ],
   "source": [
    "#Define a function with two arguments a and b. Check if a is equal to 1 then return 'coming from if',check if b\n",
    "#is equal to 1 ,then return 'coming from elif' otherwise return 'no condition is satisfied'\n",
    "def f1(a,b):\n",
    "    if a==1:\n",
    "        print(\"coming from if\")\n",
    "    elif b==1:\n",
    "        print(\"coming from elif\")  \n",
    "    else:\n",
    "        print(\"no conditions satisfied\")\n",
    "f1(6,1)    "
   ]
  },
  {
   "cell_type": "code",
   "execution_count": 11,
   "metadata": {},
   "outputs": [
    {
     "name": "stdout",
     "output_type": "stream",
     "text": [
      "Average of Physics is : 66.0\n"
     ]
    }
   ],
   "source": [
    "#Take a Dictionary as given in input.Find the average of phy subject from the dict using function \n",
    "#Input:- dict={1:{'name':'Ram','Mark':{'phy':56,'chem':78}},2:{'name':'Hari','Mark':{'phy':76,'chem':88}}} \n",
    "#Output:- 66.0\n",
    "def avg(x):\n",
    "    s=c=0\n",
    "    for i in x.values():\n",
    "        s = s + i[\"Mark\"][\"phy\"]\n",
    "        c = c+1\n",
    "    print(\"Average of Physics is :\",s/c)\n",
    "\n",
    "dict={1:{'name':'Ram','Mark':{'phy':56,'chem':78}},2:{'name':'Hari','Mark':{'phy':76,'chem':88}}}\n",
    "avg(dict)\n"
   ]
  },
  {
   "cell_type": "code",
   "execution_count": null,
   "metadata": {},
   "outputs": [],
   "source": []
  }
 ],
 "metadata": {
  "kernelspec": {
   "display_name": "Python 3",
   "language": "python",
   "name": "python3"
  },
  "language_info": {
   "codemirror_mode": {
    "name": "ipython",
    "version": 3
   },
   "file_extension": ".py",
   "mimetype": "text/x-python",
   "name": "python",
   "nbconvert_exporter": "python",
   "pygments_lexer": "ipython3",
   "version": "3.7.4"
  }
 },
 "nbformat": 4,
 "nbformat_minor": 2
}
