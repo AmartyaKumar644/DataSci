{
 "cells": [
  {
   "cell_type": "code",
   "execution_count": 3,
   "metadata": {},
   "outputs": [
    {
     "name": "stdout",
     "output_type": "stream",
     "text": [
      "22\n"
     ]
    }
   ],
   "source": [
    "#lambda\n",
    "x = lambda a,b,c:a*b-c\n",
    "print(x(6,5,8))"
   ]
  },
  {
   "cell_type": "markdown",
   "metadata": {},
   "source": [
    "Functions"
   ]
  },
  {
   "cell_type": "code",
   "execution_count": 5,
   "metadata": {},
   "outputs": [
    {
     "name": "stdout",
     "output_type": "stream",
     "text": [
      "6 5\n"
     ]
    }
   ],
   "source": [
    "#swap two numbers \n",
    "def f1(a,b):\n",
    "    a = a+b\n",
    "    b = a-b\n",
    "    a = a-b\n",
    "    print(a,b)\n",
    "f1(5,6)"
   ]
  },
  {
   "cell_type": "code",
   "execution_count": 7,
   "metadata": {},
   "outputs": [
    {
     "name": "stdout",
     "output_type": "stream",
     "text": [
      "Enter size of list :4\n",
      "12\n",
      "34\n",
      "34\n",
      "56\n",
      "[56, 34, 34, 12]\n"
     ]
    }
   ],
   "source": [
    "#swap last and first element in a list without return\n",
    "def swap(n):\n",
    "    s = len(n)\n",
    "    temp = n[0]\n",
    "    n[0] = n[s-1]\n",
    "    n[s-1] = temp\n",
    "    print(n)\n",
    "\n",
    "n=[]\n",
    "a = int(input(\"Enter size of list :\"))\n",
    "for i in range (0,a):\n",
    "    e = int(input())\n",
    "    n.append(e)\n",
    "    \n",
    "swap(n)"
   ]
  },
  {
   "cell_type": "code",
   "execution_count": 8,
   "metadata": {},
   "outputs": [
    {
     "name": "stdout",
     "output_type": "stream",
     "text": [
      "Enter size of list :5\n",
      "12\n",
      "34\n",
      "65\n",
      "78\n",
      "81\n",
      "[81, 34, 65, 78, 12]\n"
     ]
    }
   ],
   "source": [
    "#swap last and first element in a list with return\n",
    "def swap(n):\n",
    "    s = len(n)\n",
    "    temp = n[0]\n",
    "    n[0] = n[s-1]\n",
    "    n[s-1] = temp\n",
    "    return n\n",
    "\n",
    "n=[]\n",
    "a = int(input(\"Enter size of list :\"))\n",
    "for i in range (0,a):\n",
    "    e = int(input())\n",
    "    n.append(e)\n",
    "    \n",
    "print(swap(n))"
   ]
  },
  {
   "cell_type": "code",
   "execution_count": null,
   "metadata": {},
   "outputs": [],
   "source": []
  }
 ],
 "metadata": {
  "kernelspec": {
   "display_name": "Python 3",
   "language": "python",
   "name": "python3"
  },
  "language_info": {
   "codemirror_mode": {
    "name": "ipython",
    "version": 3
   },
   "file_extension": ".py",
   "mimetype": "text/x-python",
   "name": "python",
   "nbconvert_exporter": "python",
   "pygments_lexer": "ipython3",
   "version": "3.7.4"
  }
 },
 "nbformat": 4,
 "nbformat_minor": 2
}
