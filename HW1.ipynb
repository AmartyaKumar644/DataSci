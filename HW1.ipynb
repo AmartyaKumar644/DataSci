{
 "cells": [
  {
   "cell_type": "code",
   "execution_count": 1,
   "metadata": {},
   "outputs": [
    {
     "name": "stdout",
     "output_type": "stream",
     "text": [
      "Enter a number 5\n",
      "Table is \n",
      "5  x  1  =  5\n",
      "5  x  2  =  10\n",
      "5  x  3  =  15\n",
      "5  x  4  =  20\n",
      "5  x  5  =  25\n",
      "5  x  6  =  30\n",
      "5  x  7  =  35\n",
      "5  x  8  =  40\n",
      "5  x  9  =  45\n",
      "5  x  10  =  50\n"
     ]
    }
   ],
   "source": [
    "#A1. table of n\n",
    "n = int(input(\"Enter a number \" ))\n",
    "print (\"Table is \")\n",
    "for i in range (1,11):\n",
    "    print(n,' x ',i,' = ', n*i )\n"
   ]
  },
  {
   "cell_type": "code",
   "execution_count": 31,
   "metadata": {},
   "outputs": [
    {
     "name": "stdout",
     "output_type": "stream",
     "text": [
      "Enter the limit : 10\n",
      "Sum of first  10  natural numbers is:  55\n"
     ]
    }
   ],
   "source": [
    "#A2. sum of n natural numbers\n",
    "n = int(input(\"Enter the limit : \"))\n",
    "n1 = n\n",
    "s = 0\n",
    "if n <= 0: \n",
    "   print(\"Enter a positive number!\") \n",
    "else: \n",
    "   while n > 0:\n",
    "        s = s + n\n",
    "        n = n - 1;\n",
    "print(\"Sum of first \",n1, \" natural numbers is: \", s)"
   ]
  },
  {
   "cell_type": "code",
   "execution_count": 34,
   "metadata": {},
   "outputs": [
    {
     "name": "stdout",
     "output_type": "stream",
     "text": [
      "Enter a number 8\n",
      "The factorial of  8 is 40320\n"
     ]
    }
   ],
   "source": [
    "#A3. factorial of a number\n",
    "n = int(input(\"Enter a number \" ))\n",
    "n1=n\n",
    "f =1\n",
    "for i in range(1,n+1):\n",
    "    f=f*i\n",
    "print(\"The factorial of \",n1,\"is\",f)"
   ]
  },
  {
   "cell_type": "code",
   "execution_count": 42,
   "metadata": {},
   "outputs": [
    {
     "name": "stdout",
     "output_type": "stream",
     "text": [
      "Enter the number sales made in month 10\n",
      "Enter the sale made in the day 40\n",
      "Enter the sale made in the day 38\n",
      "Enter the sale made in the day 55\n",
      "Enter the sale made in the day 26\n",
      "Enter the sale made in the day 48\n",
      "Enter the sale made in the day 42\n",
      "Enter the sale made in the day 50\n",
      "Enter the sale made in the day 41\n",
      "Enter the sale made in the day 36\n",
      "Enter the sale made in the day 58\n",
      "Average sales of month : 43.4\n"
     ]
    }
   ],
   "source": [
    "#### A4. input sales of month and calculate average sales of the month\n",
    "n=int(input(\"Enter the number sales made in month \"))\n",
    "a=[]\n",
    "s=0\n",
    "for i in range(0,n):\n",
    "    b=int(input(\"Enter the sale made in the day \"))\n",
    "    a.append(b)\n",
    "    s = s+a[i]\n",
    "avg=s/n\n",
    "print(\"Average sales of month :\",round(avg,2))"
   ]
  }
 ],
 "metadata": {
  "kernelspec": {
   "display_name": "Python 3",
   "language": "python",
   "name": "python3"
  },
  "language_info": {
   "codemirror_mode": {
    "name": "ipython",
    "version": 3
   },
   "file_extension": ".py",
   "mimetype": "text/x-python",
   "name": "python",
   "nbconvert_exporter": "python",
   "pygments_lexer": "ipython3",
   "version": "3.7.4"
  }
 },
 "nbformat": 4,
 "nbformat_minor": 2
}
