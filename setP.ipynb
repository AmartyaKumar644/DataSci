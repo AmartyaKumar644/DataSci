{
 "cells": [
  {
   "cell_type": "markdown",
   "metadata": {},
   "source": [
    "Sets"
   ]
  },
  {
   "cell_type": "code",
   "execution_count": 2,
   "metadata": {},
   "outputs": [
    {
     "name": "stdout",
     "output_type": "stream",
     "text": [
      "{'Haas', 'Williams', 'Alfa Romeo', 'Ferrari', 'Red Bull', 'Alpine Renault', 'Aston Martin', 'McLaren', 'Alpha Tauri'}\n",
      "<class 'set'>\n"
     ]
    }
   ],
   "source": [
    "#using set() constructor. Can also be declared in curly braces\n",
    "set1 = set((\"McLaren\",\"Red Bull\",\"Alpha Tauri\",\"Ferrari\",\"Alpine Renault\",\"Haas\",\"Alfa Romeo\",\"Williams\",\"Aston Martin\"))\n",
    "print(set1)\n",
    "print(type(set1))"
   ]
  },
  {
   "cell_type": "code",
   "execution_count": 5,
   "metadata": {},
   "outputs": [
    {
     "name": "stdout",
     "output_type": "stream",
     "text": [
      "Haas\n",
      "Williams\n",
      "Alfa Romeo\n",
      "Ferrari\n",
      "Red Bull\n",
      "Alpine Renault\n",
      "Aston Martin\n",
      "McLaren\n",
      "Alpha Tauri\n",
      "\n",
      "\n",
      "True\n"
     ]
    }
   ],
   "source": [
    "for i in set1:\n",
    "    print(i)\n",
    "\n",
    "print(\"\\n\")\n",
    "\n",
    "print(\"McLaren\" in set1)"
   ]
  },
  {
   "cell_type": "code",
   "execution_count": 19,
   "metadata": {},
   "outputs": [
    {
     "name": "stdout",
     "output_type": "stream",
     "text": [
      "{'Haas', 'Alfa Romeo', 'Ferrari', 'Red Bull', 'Alpine Renault', 'Aston Martin', 'McLaren', 'Alpha Tauri'}\n",
      "\n",
      "\n",
      "{'Williams', 'Alfa Romeo', 'Mercedes', 'Ferrari', 'Red Bull', 'Alpine Renault', 'Aston Martin', 'McLaren', 'Alpha Tauri', 'Haas'}\n",
      "10\n"
     ]
    }
   ],
   "source": [
    "set1 = set((\"McLaren\",\"Red Bull\",\"Alpha Tauri\",\"Ferrari\",\"Alpine Renault\",\"Haas\",\"Aston Martin\"))\n",
    "set1.add(\"Alfa Romeo\")\n",
    "print(set1)\n",
    "\n",
    "print(\"\\n\")\n",
    "set2 = {\"Mercedes\",\"Williams\"}\n",
    "set2.update(set1)\n",
    "print(set2)\n",
    "print(len(set2))"
   ]
  },
  {
   "cell_type": "code",
   "execution_count": 27,
   "metadata": {},
   "outputs": [
    {
     "name": "stdout",
     "output_type": "stream",
     "text": [
      "{'Haas', 'Williams', 'Alfa Romeo', 'Ferrari', 'Red Bull', 'Alpine Renault', 'Aston Martin', 'McLaren', 'Alpha Tauri'}\n",
      "\n",
      "\n",
      "{'Haas', 'Williams', 'Ferrari', 'Red Bull', 'Alpine Renault', 'Aston Martin', 'McLaren', 'Alpha Tauri'}\n"
     ]
    }
   ],
   "source": [
    "set1 = set((\"McLaren\",\"Red Bull\",\"Alpha Tauri\",\"Ferrari\",\"Alpine Renault\",\"Haas\",\"Alfa Romeo\",\"Williams\",\"Aston Martin\",\"Mercedes\"))\n",
    "set1.remove(\"Mercedes\")\n",
    "print(set1)\n",
    "print(\"\\n\")\n",
    "set1.discard(\"Alfa Romeo\")\n",
    "print(set1)"
   ]
  },
  {
   "cell_type": "code",
   "execution_count": 34,
   "metadata": {},
   "outputs": [
    {
     "name": "stdout",
     "output_type": "stream",
     "text": [
      "set()\n"
     ]
    }
   ],
   "source": [
    "set1 = set((\"McLaren\",\"Red Bull\",\"Alpha Tauri\",\"Ferrari\",\"Alpine Renault\",\"Haas\",\"Alfa Romeo\",\"Williams\",\"Aston Martin\"))\n",
    "set1.clear()\n",
    "print(set1)\n",
    "   # #we can also completely delete by\n",
    "#del set1\n",
    "#print(set)"
   ]
  },
  {
   "cell_type": "code",
   "execution_count": 36,
   "metadata": {},
   "outputs": [
    {
     "name": "stdout",
     "output_type": "stream",
     "text": [
      "{'Haas', 'Ferrari', 'Alpha Tauri', 'Red Bull', 'Alpine Renault', 'McLaren'}\n",
      "\n",
      "\n",
      "{'Haas', 'Ferrari', 'Alpha Tauri', 'Red Bull', 'Alpine Renault', 'McLaren'}\n"
     ]
    }
   ],
   "source": [
    "set1 = {\"McLaren\",\"Red Bull\",\"Alpha Tauri\"}\n",
    "set2 = {\"Ferrari\",\"Alpine Renault\",\"Haas\"}\n",
    "set3 = set1.union(set2)\n",
    "print(set3)\n",
    "print(\"\\n\")\n",
    "#we can also do\n",
    "set1.update(set2)\n",
    "print(set1)"
   ]
  },
  {
   "cell_type": "code",
   "execution_count": 39,
   "metadata": {},
   "outputs": [
    {
     "name": "stdout",
     "output_type": "stream",
     "text": [
      "{'McLaren', 'Alpha Tauri'}\n",
      "\n",
      "\n",
      "{'McLaren', 'Alpha Tauri'}\n"
     ]
    }
   ],
   "source": [
    "set1 = {\"McLaren\",\"Red Bull\",\"Alpha Tauri\"}\n",
    "set2 = {\"McLaren\",\"Haas\",\"Alpha Tauri\",\"Williams\"}\n",
    "set1.intersection_update(set2)\n",
    "print(set1)\n",
    "print(\"\\n\")\n",
    "#we can also do\n",
    "set3 = set1.intersection(set2)\n",
    "print(set3)"
   ]
  },
  {
   "cell_type": "code",
   "execution_count": 44,
   "metadata": {},
   "outputs": [
    {
     "name": "stdout",
     "output_type": "stream",
     "text": [
      "{'Haas', 'Williams', 'Red Bull'}\n",
      "\n",
      "\n",
      "{'Red Bull', 'Williams', 'Haas'}\n"
     ]
    }
   ],
   "source": [
    "set1 = {\"McLaren\",\"Red Bull\",\"Alpha Tauri\"}\n",
    "set2 = {\"McLaren\",\"Haas\",\"Alpha Tauri\",\"Williams\"}\n",
    "set3 = set1.symmetric_difference(set2)\n",
    "print(set3)\n",
    "print(\"\\n\")\n",
    "#we can also do\n",
    "set1.symmetric_difference_update(set2)\n",
    "print(set1)"
   ]
  },
  {
   "cell_type": "code",
   "execution_count": null,
   "metadata": {},
   "outputs": [],
   "source": []
  }
 ],
 "metadata": {
  "kernelspec": {
   "display_name": "Python 3",
   "language": "python",
   "name": "python3"
  },
  "language_info": {
   "codemirror_mode": {
    "name": "ipython",
    "version": 3
   },
   "file_extension": ".py",
   "mimetype": "text/x-python",
   "name": "python",
   "nbconvert_exporter": "python",
   "pygments_lexer": "ipython3",
   "version": "3.7.4"
  }
 },
 "nbformat": 4,
 "nbformat_minor": 2
}
