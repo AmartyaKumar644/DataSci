{
 "cells": [
  {
   "cell_type": "markdown",
   "metadata": {},
   "source": [
    "Dictionaries "
   ]
  },
  {
   "cell_type": "code",
   "execution_count": 14,
   "metadata": {},
   "outputs": [
    {
     "name": "stdout",
     "output_type": "stream",
     "text": [
      "{'McLaren': 'L.Norris', 'Ferrari': 'C.Leclarc', 'Alpha Tauri': 'P.Gasly', 'Alpine Renault': 'F.Alonso', 'Aston Martin': 'L.Stroll'}\n",
      "L.Norris\n"
     ]
    }
   ],
   "source": [
    "d = {'McLaren':'L.Norris','Ferrari':'C.Leclarc','Alpha Tauri':'P.Gasly','Alpine Renault':'F.Alonso','Aston Martin':'L.Stroll'}\n",
    "print(d)\n",
    "print(d['McLaren'])"
   ]
  },
  {
   "cell_type": "code",
   "execution_count": null,
   "metadata": {},
   "outputs": [],
   "source": []
  },
  {
   "cell_type": "code",
   "execution_count": 15,
   "metadata": {},
   "outputs": [
    {
     "name": "stdout",
     "output_type": "stream",
     "text": [
      "dict_keys(['McLaren', 'Ferrari', 'Alpha Tauri', 'Alpine Renault', 'Aston Martin'])\n",
      "\n",
      "\n",
      "dict_values(['L.Norris', 'C.Leclarc', 'P.Gasly', 'F.Alonso', 'L.Stroll'])\n",
      "\n",
      "\n",
      "dict_items([('McLaren', 'L.Norris'), ('Ferrari', 'C.Leclarc'), ('Alpha Tauri', 'P.Gasly'), ('Alpine Renault', 'F.Alonso'), ('Aston Martin', 'L.Stroll')])\n"
     ]
    }
   ],
   "source": [
    "a = d.keys() #return a list of all the keys in the dictionary\n",
    "print(a)\n",
    "print(\"\\n\")\n",
    "b = d.values() #return a list of all the values in the dictionary\n",
    "print(b)\n",
    "print(\"\\n\")\n",
    "c = d.items() #return each item in a dictionary, as tuples in a list.Get a list of the key:value pairs\n",
    "print(c)"
   ]
  },
  {
   "cell_type": "code",
   "execution_count": 16,
   "metadata": {},
   "outputs": [
    {
     "name": "stdout",
     "output_type": "stream",
     "text": [
      "D.Ricciardo\n",
      "{'McLaren': 'D.Ricciardo', 'Ferrari': 'C.Leclarc', 'Alpha Tauri': 'P.Gasly', 'Alpine Renault': 'F.Alonso', 'Aston Martin': 'L.Stroll'}\n"
     ]
    }
   ],
   "source": [
    "#change in original dictionary\n",
    "x = d['McLaren'] = 'D.Ricciardo'\n",
    "print(x)\n",
    "print(d)\n",
    "\n",
    "#change and update can also be done by\n",
    "#d.update({'McLaren':'D.Ricciardo'})\n",
    "#print(d)"
   ]
  },
  {
   "cell_type": "code",
   "execution_count": 17,
   "metadata": {},
   "outputs": [
    {
     "name": "stdout",
     "output_type": "stream",
     "text": [
      "M.Verstappen\n",
      "{'McLaren': 'D.Ricciardo', 'Ferrari': 'C.Leclarc', 'Alpha Tauri': 'P.Gasly', 'Alpine Renault': 'F.Alonso', 'Aston Martin': 'L.Stroll', 'Red Bull': 'M.Verstappen'}\n"
     ]
    }
   ],
   "source": [
    "# add a new item in a dictionary\n",
    "y = d['Red Bull'] = 'M.Verstappen'\n",
    "print(y)\n",
    "print(d)"
   ]
  },
  {
   "cell_type": "code",
   "execution_count": 18,
   "metadata": {},
   "outputs": [
    {
     "name": "stdout",
     "output_type": "stream",
     "text": [
      "{'McLaren': 'L.Norris', 'Alpha Tauri': 'P.Gasly', 'Alpine Renault': 'F.Alonso', 'Aston Martin': 'L.Stroll'}\n",
      "\n",
      "\n",
      "{'McLaren': 'L.Norris', 'Alpha Tauri': 'P.Gasly', 'Alpine Renault': 'F.Alonso'}\n",
      "\n",
      "\n",
      "{'McLaren': 'L.Norris', 'Alpha Tauri': 'P.Gasly'}\n",
      "\n",
      "\n",
      "{}\n"
     ]
    }
   ],
   "source": [
    "d = {'McLaren':'L.Norris','Ferrari':'C.Leclarc','Alpha Tauri':'P.Gasly','Alpine Renault':'F.Alonso','Aston Martin':'L.Stroll'}\n",
    "\n",
    "#Removing Items from a dictionary\n",
    "d.pop(\"Ferrari\")\n",
    "print(d)\n",
    "print('\\n')\n",
    "\n",
    "#The popitem() method removes the last inserted item\n",
    "d.popitem()\n",
    "print(d)\n",
    "print('\\n')\n",
    "\n",
    "#The del keyword removes the item with the specified key name\n",
    "del d[\"Alpine Renault\"]\n",
    "print(d)\n",
    "print('\\n')\n",
    "\n",
    "#The clear() method empties the dictionary\n",
    "d.clear()\n",
    "print(d)"
   ]
  },
  {
   "cell_type": "code",
   "execution_count": 20,
   "metadata": {},
   "outputs": [
    {
     "name": "stdout",
     "output_type": "stream",
     "text": [
      "McLaren\n",
      "Ferrari\n",
      "Alpha Tauri\n",
      "Alpine Renault\n",
      "Aston Martin\n",
      "\n",
      "\n",
      "L.Norris\n",
      "C.Leclarc\n",
      "P.Gasly\n",
      "F.Alonso\n",
      "L.Stroll\n"
     ]
    }
   ],
   "source": [
    "d = {'McLaren':'L.Norris','Ferrari':'C.Leclarc','Alpha Tauri':'P.Gasly','Alpine Renault':'F.Alonso','Aston Martin':'L.Stroll'}\n",
    "\n",
    "#loops in dictionary\n",
    "\n",
    "for x in d:     #all key names one by one\n",
    "    print(x)\n",
    "\n",
    "print('\\n')\n",
    "\n",
    "for x in d:      #all values names one by one\n",
    "    print(d[x])"
   ]
  },
  {
   "cell_type": "code",
   "execution_count": 22,
   "metadata": {},
   "outputs": [
    {
     "name": "stdout",
     "output_type": "stream",
     "text": [
      "L.Norris\n",
      "C.Leclarc\n",
      "P.Gasly\n",
      "F.Alonso\n",
      "L.Stroll\n",
      "\n",
      "\n",
      "McLaren\n",
      "Ferrari\n",
      "Alpha Tauri\n",
      "Alpine Renault\n",
      "Aston Martin\n",
      "\n",
      "\n",
      "McLaren -------> L.Norris\n",
      "Ferrari -------> C.Leclarc\n",
      "Alpha Tauri -------> P.Gasly\n",
      "Alpine Renault -------> F.Alonso\n",
      "Aston Martin -------> L.Stroll\n"
     ]
    }
   ],
   "source": [
    "d = {'McLaren':'L.Norris','Ferrari':'C.Leclarc','Alpha Tauri':'P.Gasly','Alpine Renault':'F.Alonso','Aston Martin':'L.Stroll'}\n",
    "\n",
    "#returns values in dict\n",
    "for x in d.values():\n",
    "    print(x)\n",
    "print(\"\\n\")\n",
    "#returns key in dict \n",
    "for x in d.keys():\n",
    "    print(x)\n",
    "print('\\n')\n",
    "#returns key:value pair in dict\n",
    "for x, y in d.items():\n",
    "    print(x,\"------->\", y)"
   ]
  },
  {
   "cell_type": "code",
   "execution_count": null,
   "metadata": {},
   "outputs": [],
   "source": []
  }
 ],
 "metadata": {
  "kernelspec": {
   "display_name": "Python 3",
   "language": "python",
   "name": "python3"
  },
  "language_info": {
   "codemirror_mode": {
    "name": "ipython",
    "version": 3
   },
   "file_extension": ".py",
   "mimetype": "text/x-python",
   "name": "python",
   "nbconvert_exporter": "python",
   "pygments_lexer": "ipython3",
   "version": "3.7.4"
  }
 },
 "nbformat": 4,
 "nbformat_minor": 2
}
