{
 "cells": [
  {
   "cell_type": "code",
   "execution_count": 8,
   "metadata": {},
   "outputs": [
    {
     "name": "stdout",
     "output_type": "stream",
     "text": [
      "Enter the length 10\n",
      "Enter the breadth 7\n",
      "It is a rectangle\n"
     ]
    }
   ],
   "source": [
    "#Q1\n",
    "a = int(input(\"Enter the length \"))\n",
    "b = int(input(\"Enter the breadth \"))\n",
    "if(a==b):\n",
    "    print(\"It is a square\")\n",
    "else:\n",
    "    print(\"It is a rectangle\")"
   ]
  },
  {
   "cell_type": "code",
   "execution_count": 7,
   "metadata": {},
   "outputs": [
    {
     "name": "stdout",
     "output_type": "stream",
     "text": [
      "Enter the 1st number 56\n",
      "Enter the 2nd number 34\n",
      "a is greater than b\n"
     ]
    }
   ],
   "source": [
    "#Q2\n",
    "a = int(input(\"Enter the 1st number \"))\n",
    "b = int(input(\"Enter the 2nd number \"))\n",
    "print(\"a is greater than b\") if (a>b) else print(\"a is equal to b\") if(a==b) else print(\"b is greater than a\")"
   ]
  },
  {
   "cell_type": "code",
   "execution_count": 6,
   "metadata": {},
   "outputs": [
    {
     "name": "stdout",
     "output_type": "stream",
     "text": [
      "Enter a number 5\n",
      "120\n"
     ]
    }
   ],
   "source": [
    "#Q3 factorial\n",
    "a = int(input(\"Enter a number \"))\n",
    "f = 1\n",
    "while (a>0):\n",
    "    f = f * a\n",
    "    a-=1\n",
    "print (f)\n",
    "    "
   ]
  },
  {
   "cell_type": "code",
   "execution_count": 4,
   "metadata": {},
   "outputs": [
    {
     "name": "stdout",
     "output_type": "stream",
     "text": [
      "Enter a number 20\n",
      "210\n"
     ]
    }
   ],
   "source": [
    "#Q4 sum of numbers enter by user\n",
    "a = int(input(\"Enter a number \"))\n",
    "s=0\n",
    "for i in range(1,a+1):\n",
    "    s = s+i\n",
    "print(s)"
   ]
  },
  {
   "cell_type": "code",
   "execution_count": 3,
   "metadata": {},
   "outputs": [
    {
     "name": "stdout",
     "output_type": "stream",
     "text": [
      "Enter a number 7678\n",
      "8767\n",
      "Not Palindrome number\n"
     ]
    }
   ],
   "source": [
    "#practise palindrome\n",
    "a = int(input(\"Enter a number \"))\n",
    "a1 = a\n",
    "r=0\n",
    "while (a>0):\n",
    "    d = a%10\n",
    "    r = r*10+d\n",
    "    a = a // 10\n",
    "print (r)\n",
    "if(a1==r):\n",
    "    print(\"Palindrome number\")\n",
    "else:\n",
    "    print(\"Not Palindrome number\")"
   ]
  },
  {
   "cell_type": "code",
   "execution_count": 1,
   "metadata": {},
   "outputs": [
    {
     "name": "stdout",
     "output_type": "stream",
     "text": [
      "Enter the number of elements in the list :5\n",
      "34\n",
      "67\n",
      "90\n",
      "12\n",
      "23\n",
      "['34', '67', '90', '12', '23']\n",
      "['12', '23', '34', '67', '90']\n",
      "['90', '67', '34', '23', '12']\n"
     ]
    }
   ],
   "source": [
    "#Q5\n",
    "a=[]\n",
    "n = int(input(\"Enter the number of elements in the list :\"))\n",
    "for i in range(0,n):\n",
    "    b = input()\n",
    "    a.append(b)\n",
    "print(a)\n",
    "a.sort()\n",
    "print(a)\n",
    "a.sort(reverse = True)\n",
    "print(a)"
   ]
  },
  {
   "cell_type": "code",
   "execution_count": 15,
   "metadata": {},
   "outputs": [
    {
     "name": "stdout",
     "output_type": "stream",
     "text": [
      "[0, 1, 2, 3, 4]\n"
     ]
    }
   ],
   "source": [
    "#a=[]\n",
    "#for i in range(0,10):\n",
    "#    if(i<5):\n",
    "#        a.append(i)\n",
    "#print(a)\n",
    "\n",
    "new_list=[x for x in range(0,20)if x<5]\n",
    "print(new_list)"
   ]
  }
 ],
 "metadata": {
  "kernelspec": {
   "display_name": "Python 3",
   "language": "python",
   "name": "python3"
  },
  "language_info": {
   "codemirror_mode": {
    "name": "ipython",
    "version": 3
   },
   "file_extension": ".py",
   "mimetype": "text/x-python",
   "name": "python",
   "nbconvert_exporter": "python",
   "pygments_lexer": "ipython3",
   "version": "3.7.4"
  }
 },
 "nbformat": 4,
 "nbformat_minor": 2
}
