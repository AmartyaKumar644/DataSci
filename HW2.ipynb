{
 "cells": [
  {
   "cell_type": "code",
   "execution_count": 1,
   "metadata": {},
   "outputs": [
    {
     "name": "stdout",
     "output_type": "stream",
     "text": [
      "Enter distance is kms:5\n",
      "In miles = 3.107520198881293\n"
     ]
    }
   ],
   "source": [
    "#kilometers to miles\n",
    "a = int(input(\"Enter distance is kms:\"))\n",
    "b = a/1.609\n",
    "print(\"In miles =\",b)"
   ]
  },
  {
   "cell_type": "code",
   "execution_count": 2,
   "metadata": {},
   "outputs": [
    {
     "name": "stdout",
     "output_type": "stream",
     "text": [
      "Enter temperature in Celsius : 90\n",
      "Temperature in Farenheit = 194.0\n"
     ]
    }
   ],
   "source": [
    "#celsius to Fareheit\n",
    "c = int(input(\"Enter temperature in Celsius : \"))\n",
    "f = (c*1.8)+32\n",
    "print(\"Temperature in Farenheit =\",f)"
   ]
  },
  {
   "cell_type": "code",
   "execution_count": 4,
   "metadata": {},
   "outputs": [
    {
     "name": "stdout",
     "output_type": "stream",
     "text": [
      "Enter a number 5\n",
      "Number is positive \n"
     ]
    }
   ],
   "source": [
    "# check whether number is positive , negative or zero\n",
    "a = int(input(\"Enter a number \"))\n",
    "if a>0:\n",
    "    print (\"Number is positive \")\n",
    "elif a<0:\n",
    "    print (\"Number is negative \")\n",
    "else:\n",
    "    print (\"Zero \")\n"
   ]
  },
  {
   "cell_type": "code",
   "execution_count": 7,
   "metadata": {},
   "outputs": [
    {
     "name": "stdout",
     "output_type": "stream",
     "text": [
      "Enter a number 43\n",
      "Number is odd \n"
     ]
    }
   ],
   "source": [
    "# Check whether number is odd or even\n",
    "a = int(input(\"Enter a number \"))\n",
    "if a%2==0:\n",
    "    print (\"Number is even \")\n",
    "else:\n",
    "    print (\"Number is odd \")"
   ]
  },
  {
   "cell_type": "code",
   "execution_count": 12,
   "metadata": {},
   "outputs": [
    {
     "name": "stdout",
     "output_type": "stream",
     "text": [
      "Enter Year: 2004\n",
      "2004 is a Leap Year\n"
     ]
    }
   ],
   "source": [
    "#check leap year\n",
    "year = int(input(\"Enter Year: \"))\n",
    "if year % 4 == 0 and year % 100 != 0:\n",
    "    print(year, \"is a Leap Year\")\n",
    "elif year % 100 == 0:\n",
    "    print(year, \"is not a Leap Year\")\n",
    "elif year % 400 ==0:\n",
    "    print(year, \"is a Leap Year\")\n",
    "else:\n",
    "    print(year, \"is not a Leap Year\")"
   ]
  },
  {
   "cell_type": "code",
   "execution_count": 1,
   "metadata": {},
   "outputs": [
    {
     "name": "stdout",
     "output_type": "stream",
     "text": [
      "Enter 1st number 66\n",
      "Enter 2nd number 45\n",
      "Enter 3rd number 78\n",
      "78\n"
     ]
    }
   ],
   "source": [
    "# largest among 3 numbers\n",
    "a = int(input(\"Enter 1st number \"))\n",
    "b = int(input(\"Enter 2nd number \"))\n",
    "c = int(input(\"Enter 3rd number \"))\n",
    "m = a if a>b and a>c else b if b>c else c\n",
    "print (m)"
   ]
  },
  {
   "cell_type": "code",
   "execution_count": 2,
   "metadata": {},
   "outputs": [
    {
     "name": "stdout",
     "output_type": "stream",
     "text": [
      "Enter a number 13\n",
      "Number is prime :\n"
     ]
    }
   ],
   "source": [
    "# check prime number\n",
    "a = int(input(\"Enter a number \"))\n",
    "f = False\n",
    "for i in range(2,a):\n",
    "    if(a%i)==0:\n",
    "        f = True\n",
    "        break\n",
    "if f:\n",
    "    print(\"Number is not prime :\")\n",
    "else:\n",
    "    print(\"Number is prime :\")"
   ]
  },
  {
   "cell_type": "code",
   "execution_count": 10,
   "metadata": {},
   "outputs": [
    {
     "name": "stdout",
     "output_type": "stream",
     "text": [
      "Enter lower limit :500\n",
      "Enter upper limit :700\n",
      "503\n",
      "509\n",
      "521\n",
      "523\n",
      "541\n",
      "547\n",
      "557\n",
      "563\n",
      "569\n",
      "571\n",
      "577\n",
      "587\n",
      "593\n",
      "599\n",
      "601\n",
      "607\n",
      "613\n",
      "617\n",
      "619\n",
      "631\n",
      "641\n",
      "643\n",
      "647\n",
      "653\n",
      "659\n",
      "661\n",
      "673\n",
      "677\n",
      "683\n",
      "691\n"
     ]
    }
   ],
   "source": [
    "# prime numbers within given range\n",
    "x = int(input(\"Enter lower limit :\"))\n",
    "y = int(input(\"Enter upper limit :\"))\n",
    "for i in range(x,y+1):\n",
    "    if i>1:\n",
    "        for j in range(2,i):\n",
    "            if(i%j)==0:\n",
    "                break\n",
    "        else:\n",
    "            print(i)\n",
    "        "
   ]
  },
  {
   "cell_type": "code",
   "execution_count": 1,
   "metadata": {},
   "outputs": [
    {
     "name": "stdout",
     "output_type": "stream",
     "text": [
      "Enter a number :5\n",
      "120\n"
     ]
    }
   ],
   "source": [
    "# Factorial of a number\n",
    "t = int(input(\"Enter a number :\"))\n",
    "f = 1\n",
    "for i in range(1,t+1):\n",
    "    f = f*i\n",
    "print(f)"
   ]
  },
  {
   "cell_type": "code",
   "execution_count": 2,
   "metadata": {},
   "outputs": [
    {
     "name": "stdout",
     "output_type": "stream",
     "text": [
      "Enter a number 17\n",
      "Table is \n",
      "17  x  1  =  17\n",
      "17  x  2  =  34\n",
      "17  x  3  =  51\n",
      "17  x  4  =  68\n",
      "17  x  5  =  85\n",
      "17  x  6  =  102\n",
      "17  x  7  =  119\n",
      "17  x  8  =  136\n",
      "17  x  9  =  153\n",
      "17  x  10  =  170\n"
     ]
    }
   ],
   "source": [
    "# table of n\n",
    "n = int(input(\"Enter a number \" ))\n",
    "print (\"Table is \")\n",
    "for i in range (1,11):\n",
    "    print(n,' x ',i,' = ', n*i )"
   ]
  },
  {
   "cell_type": "code",
   "execution_count": 4,
   "metadata": {},
   "outputs": [
    {
     "name": "stdout",
     "output_type": "stream",
     "text": [
      "Enter the limit of fibonacci series : 13\n",
      "Fibonacci Series:  0 1 1 2 3 5 8 13 21 34 55 89 144 "
     ]
    }
   ],
   "source": [
    "# fibonacci series\n",
    "n = int(input(\"Enter the limit of fibonacci series : \"))\n",
    "a = 0\n",
    "b = 1\n",
    "sum = 0\n",
    "count = 1\n",
    "print(\"Fibonacci Series: \", end = \" \")\n",
    "while(count <= n):\n",
    "  print(sum, end = \" \")\n",
    "  count += 1\n",
    "  a = b\n",
    "  b = sum\n",
    "  sum = a + b"
   ]
  },
  {
   "cell_type": "code",
   "execution_count": 6,
   "metadata": {},
   "outputs": [
    {
     "name": "stdout",
     "output_type": "stream",
     "text": [
      "Enter a number :407\n",
      "407 is an Armstrong Number :\n"
     ]
    }
   ],
   "source": [
    "# Armstrong number\n",
    "n = int(input(\"Enter a number :\"))\n",
    "s=0\n",
    "n1=n\n",
    "while n1>0:\n",
    "    d = n1%10\n",
    "    s += (d**3)\n",
    "    n1 //=10\n",
    "if n==s:\n",
    "    print(n,\"is an Armstrong Number :\")\n",
    "else:\n",
    "    print(n,\"is not an Armstrong Number :\")\n",
    "    "
   ]
  }
 ],
 "metadata": {
  "kernelspec": {
   "display_name": "Python 3",
   "language": "python",
   "name": "python3"
  },
  "language_info": {
   "codemirror_mode": {
    "name": "ipython",
    "version": 3
   },
   "file_extension": ".py",
   "mimetype": "text/x-python",
   "name": "python",
   "nbconvert_exporter": "python",
   "pygments_lexer": "ipython3",
   "version": "3.7.4"
  }
 },
 "nbformat": 4,
 "nbformat_minor": 2
}
